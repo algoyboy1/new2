{
  "nbformat": 4,
  "nbformat_minor": 0,
  "metadata": {
    "colab": {
      "provenance": [],
      "toc_visible": true,
      "authorship_tag": "ABX9TyObdzWVwnWml3nP7I48IOCk"
    },
    "kernelspec": {
      "name": "python3",
      "display_name": "Python 3"
    },
    "language_info": {
      "name": "python"
    },
    "accelerator": "TPU"
  },
  "cells": [
    {
      "cell_type": "code",
      "execution_count": null,
      "metadata": {
        "id": "mobmnzqCS7ve"
      },
      "outputs": [],
      "source": [
        "x=10\n",
        "y=20\n",
        "z=x+y\n",
        "print(z)\n",
        "a='molham'\n",
        "print(a)\n"
      ]
    },
    {
      "cell_type": "markdown",
      "source": [
        "# New section"
      ],
      "metadata": {
        "id": "gVFuZgTcYdMh"
      }
    }
  ]
}